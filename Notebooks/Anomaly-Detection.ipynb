{
 "cells": [
  {
   "cell_type": "markdown",
   "metadata": {},
   "source": [
    "<center>\n",
    "    <h2>Detection des anomalies</h2>\n",
    "    <hr/>\n",
    "</center>"
   ]
  },
  {
   "cell_type": "markdown",
   "metadata": {},
   "source": [
    "### Chargement des bibliothèques"
   ]
  },
  {
   "cell_type": "code",
   "execution_count": 1,
   "metadata": {},
   "outputs": [],
   "source": [
    "import pandas as pd\n",
    "import numpy as np\n",
    "import matplotlib.pyplot as plt\n",
    "%matplotlib qt\n",
    "import seaborn as sns\n",
    "from jupyterthemes import jtplot\n",
    "import datetime\n",
    "import networkx as nx\n",
    "\n",
    "jtplot.style(theme = 'onedork')"
   ]
  },
  {
   "cell_type": "markdown",
   "metadata": {},
   "source": [
    "### Chargement des données"
   ]
  },
  {
   "cell_type": "code",
   "execution_count": 2,
   "metadata": {
    "scrolled": true
   },
   "outputs": [
    {
     "name": "stderr",
     "output_type": "stream",
     "text": [
      "C:\\Users\\ASUS\\AppData\\Roaming\\Python\\Python37\\site-packages\\IPython\\core\\interactiveshell.py:3058: DtypeWarning: Columns (16) have mixed types.Specify dtype option on import or set low_memory=False.\n",
      "  interactivity=interactivity, compiler=compiler, result=result)\n",
      "C:\\Users\\ASUS\\AppData\\Roaming\\Python\\Python37\\site-packages\\IPython\\core\\interactiveshell.py:3058: DtypeWarning: Columns (13) have mixed types.Specify dtype option on import or set low_memory=False.\n",
      "  interactivity=interactivity, compiler=compiler, result=result)\n"
     ]
    }
   ],
   "source": [
    "Assure = pd.read_csv('../Data/assure.csv', sep = ';')\n",
    "BonusMalus = pd.read_csv('../Data/classBonusMalus.csv', sep = ';')\n",
    "Epave = pd.read_csv('../Data/epave.csv', sep = \";\")\n",
    "Marque = pd.read_excel('../Data/marque.xlsx', sep = ';')\n",
    "Police = pd.read_csv('../Data/Police.csv', sep = ';')\n",
    "Sinistre = pd.read_csv('../Data/Sinistre.csv', sep = ';')\n",
    "Usage = pd.read_excel('../Data/Usage.xlsx', sep = ';')\n",
    "UsageCGA = pd.read_csv('../Data/UsageCGA.csv', sep = ';')\n",
    "Vehicule = pd.read_csv('../Data/vehicule.csv', sep = ';')"
   ]
  },
  {
   "cell_type": "markdown",
   "metadata": {},
   "source": [
    "### Anomalie 1 : Vehicules déclarées dans plusieurs polices"
   ]
  },
  {
   "cell_type": "code",
   "execution_count": 38,
   "metadata": {
    "scrolled": true
   },
   "outputs": [],
   "source": [
    "poop = BonusMalus.groupby('vehicule_id')[['CONTRAT_EN_COURS']].sum()\n",
    "\n",
    "#plt.figure(figsize = (20, 10))\n",
    "sns.countplot(data = poop[poop['CONTRAT_EN_COURS'] > 1], x = 'CONTRAT_EN_COURS')\n",
    "plt.xlabel('\\nNumber of Operative Policies')\n",
    "plt.ylabel('Number of Vehicles\\n')\n",
    "plt.xticks()\n",
    "plt.yticks()\n",
    "plt.title('Abnormal Behaviour Found in a Number of Registered Vehicles\\n', \n",
    "          fontdict = {'fontsize': 20});"
   ]
  },
  {
   "cell_type": "markdown",
   "metadata": {},
   "source": [
    "### Anomalie 2 : Assurés avec un nombre suspect de véhicules"
   ]
  },
  {
   "cell_type": "code",
   "execution_count": 54,
   "metadata": {
    "scrolled": false
   },
   "outputs": [],
   "source": [
    "poop = BonusMalus.groupby('assure_id')[['vehicule_id']].count()\n",
    "poop = poop.sort_values(by = 'vehicule_id', ascending = False).reset_index()\n",
    "tmp = poop['assure_id'].head(10).values\n",
    "\n",
    "sns.barplot(data = poop.head(10), x = 'assure_id', y = 'vehicule_id', order = list(tmp))\n",
    "plt.ylabel('Number of Registered Vehicles\\n')\n",
    "plt.xlabel('\\nInsured ID')\n",
    "plt.title('Abnormal Behaviour Detected in a Number of Clients\\n', \n",
    "          fontdict = {'fontsize': 20});"
   ]
  },
  {
   "cell_type": "markdown",
   "metadata": {},
   "source": [
    "Le client *53968* a un nombre suspect de véhicules.<br/>\n",
    "NB : Même pour un contrat flotte 400 véhicule est un nombre énorme."
   ]
  },
  {
   "cell_type": "code",
   "execution_count": 83,
   "metadata": {},
   "outputs": [],
   "source": [
    "poop = BonusMalus.merge(Police, left_on = 'police_id', right_on = 'id', how = 'left')\n",
    "poop = poop.where(poop['assure_id'] == 53968).dropna(how = 'all')\n",
    "\n",
    "sns.countplot(data = poop, x = 'CONTRAT_EN_COURS', hue = 'typePolice')\n",
    "plt.ylabel('Number of Policies')\n",
    "plt.xlabel('')\n",
    "plt.legend(labels = ['Individual', 'Fleet'], title = 'Type of Policy')\n",
    "plt.xticks([0, 1], ['Inoperative Policies', 'Operative Policies'])\n",
    "plt.title('\\nAbnormal Behaviour Detected in a Number of Clients\\n', \n",
    "          fontdict = {'fontsize': 25});"
   ]
  },
  {
   "cell_type": "markdown",
   "metadata": {},
   "source": [
    "La plupart (presque tous) des polices sont de type *Individuel*"
   ]
  },
  {
   "cell_type": "code",
   "execution_count": 73,
   "metadata": {
    "scrolled": true
   },
   "outputs": [
    {
     "data": {
      "text/html": [
       "<div>\n",
       "<style scoped>\n",
       "    .dataframe tbody tr th:only-of-type {\n",
       "        vertical-align: middle;\n",
       "    }\n",
       "\n",
       "    .dataframe tbody tr th {\n",
       "        vertical-align: top;\n",
       "    }\n",
       "\n",
       "    .dataframe thead th {\n",
       "        text-align: right;\n",
       "    }\n",
       "</style>\n",
       "<table border=\"1\" class=\"dataframe\">\n",
       "  <thead>\n",
       "    <tr style=\"text-align: right;\">\n",
       "      <th></th>\n",
       "      <th>codeCompagnie</th>\n",
       "      <th>codeAgence</th>\n",
       "      <th>naturePolice</th>\n",
       "      <th>Etat_Police</th>\n",
       "    </tr>\n",
       "  </thead>\n",
       "  <tbody>\n",
       "    <tr>\n",
       "      <th>989</th>\n",
       "      <td>15.0</td>\n",
       "      <td>9.0</td>\n",
       "      <td>R</td>\n",
       "      <td>R</td>\n",
       "    </tr>\n",
       "    <tr>\n",
       "      <th>2081</th>\n",
       "      <td>15.0</td>\n",
       "      <td>9.0</td>\n",
       "      <td>R</td>\n",
       "      <td>R</td>\n",
       "    </tr>\n",
       "    <tr>\n",
       "      <th>2458</th>\n",
       "      <td>15.0</td>\n",
       "      <td>9.0</td>\n",
       "      <td>R</td>\n",
       "      <td>V</td>\n",
       "    </tr>\n",
       "    <tr>\n",
       "      <th>2468</th>\n",
       "      <td>15.0</td>\n",
       "      <td>9.0</td>\n",
       "      <td>R</td>\n",
       "      <td>R</td>\n",
       "    </tr>\n",
       "    <tr>\n",
       "      <th>2469</th>\n",
       "      <td>15.0</td>\n",
       "      <td>9.0</td>\n",
       "      <td>R</td>\n",
       "      <td>R</td>\n",
       "    </tr>\n",
       "  </tbody>\n",
       "</table>\n",
       "</div>"
      ],
      "text/plain": [
       "      codeCompagnie  codeAgence naturePolice Etat_Police\n",
       "989            15.0         9.0            R           R\n",
       "2081           15.0         9.0            R           R\n",
       "2458           15.0         9.0            R           V\n",
       "2468           15.0         9.0            R           R\n",
       "2469           15.0         9.0            R           R"
      ]
     },
     "execution_count": 73,
     "metadata": {},
     "output_type": "execute_result"
    }
   ],
   "source": [
    "poop = BonusMalus.where(BonusMalus['assure_id'] == 53968).dropna(how = 'all')\n",
    "poop = poop = poop.where(poop['CONTRAT_EN_COURS'] == 1).dropna(how = 'all')\n",
    "polices = poop['police_id'].values\n",
    "poop = Police.where(Police['id'].isin(polices)).dropna(how = 'all')[['codeCompagnie', 'codeAgence', 'naturePolice', 'Etat_Police']]\n",
    "\n",
    "poop.head()"
   ]
  },
  {
   "cell_type": "code",
   "execution_count": 85,
   "metadata": {},
   "outputs": [],
   "source": [
    "poop = BonusMalus.merge(Police, left_on = 'police_id', right_on = 'id', how = 'left')\n",
    "\n",
    "sns.countplot(data = poop, x = 'CONTRAT_EN_COURS', hue = 'Etat_Police')\n",
    "plt.ylabel('Number of Policies\\n')\n",
    "plt.xlabel('\\nCONTRAT_EN_COURS')\n",
    "plt.title('\\nInconsistencies in Certain Variables\\n', \n",
    "          fontdict = {'fontsize': 25});"
   ]
  },
  {
   "cell_type": "markdown",
   "metadata": {},
   "source": [
    "On n'a pris que les contrats qui sont en cours et on a trouvé des contrats résiliés. <br/>\n",
    "Il n'y a pas de cohérence entre la varibale `CONTRAT_EN_COURS` et `Etat_Police`"
   ]
  },
  {
   "cell_type": "markdown",
   "metadata": {},
   "source": [
    "### Anomalie 3 : Simulation des accidents (graphes)"
   ]
  },
  {
   "cell_type": "code",
   "execution_count": 14,
   "metadata": {},
   "outputs": [
    {
     "data": {
      "text/html": [
       "<div>\n",
       "<style scoped>\n",
       "    .dataframe tbody tr th:only-of-type {\n",
       "        vertical-align: middle;\n",
       "    }\n",
       "\n",
       "    .dataframe tbody tr th {\n",
       "        vertical-align: top;\n",
       "    }\n",
       "\n",
       "    .dataframe thead th {\n",
       "        text-align: right;\n",
       "    }\n",
       "</style>\n",
       "<table border=\"1\" class=\"dataframe\">\n",
       "  <thead>\n",
       "    <tr style=\"text-align: right;\">\n",
       "      <th></th>\n",
       "      <th>policeId (A)</th>\n",
       "      <th>policeId (B)</th>\n",
       "    </tr>\n",
       "  </thead>\n",
       "  <tbody>\n",
       "    <tr>\n",
       "      <th>2</th>\n",
       "      <td>174573</td>\n",
       "      <td>101562.0</td>\n",
       "    </tr>\n",
       "    <tr>\n",
       "      <th>7</th>\n",
       "      <td>174619</td>\n",
       "      <td>2066580.0</td>\n",
       "    </tr>\n",
       "    <tr>\n",
       "      <th>27</th>\n",
       "      <td>174803</td>\n",
       "      <td>205494.0</td>\n",
       "    </tr>\n",
       "    <tr>\n",
       "      <th>29</th>\n",
       "      <td>174811</td>\n",
       "      <td>1242195.0</td>\n",
       "    </tr>\n",
       "    <tr>\n",
       "      <th>37</th>\n",
       "      <td>174852</td>\n",
       "      <td>1359974.0</td>\n",
       "    </tr>\n",
       "  </tbody>\n",
       "</table>\n",
       "</div>"
      ],
      "text/plain": [
       "    policeId (A)  policeId (B)\n",
       "2         174573      101562.0\n",
       "7         174619     2066580.0\n",
       "27        174803      205494.0\n",
       "29        174811     1242195.0\n",
       "37        174852     1359974.0"
      ]
     },
     "execution_count": 14,
     "metadata": {},
     "output_type": "execute_result"
    }
   ],
   "source": [
    "poop = Sinistre[['cga_police_id', 'numeroDePoliceCompagnieAdverse']]\n",
    "poop = poop.merge(Police[['id', 'numPolice']], \n",
    "                  left_on = 'numeroDePoliceCompagnieAdverse', \n",
    "                  right_on = 'numPolice', \n",
    "                  how = 'left')\n",
    "\n",
    "poop.dropna(inplace = True)\n",
    "poop.drop(columns = ['numeroDePoliceCompagnieAdverse', 'numPolice'], inplace = True)\n",
    "poop.rename(columns = {\n",
    "    'cga_police_id': 'policeId (A)',\n",
    "    'id': 'policeId (B)'\n",
    "}, inplace = True)\n",
    "\n",
    "poop.head()"
   ]
  },
  {
   "cell_type": "markdown",
   "metadata": {},
   "source": [
    "On a créé une dataframe décrivant les deux partis d'un sinistre."
   ]
  },
  {
   "cell_type": "code",
   "execution_count": 16,
   "metadata": {},
   "outputs": [],
   "source": [
    "nodes = np.array(poop.values).reshape((poop.shape[0]*poop.shape[1], ))\n",
    "edges = [(poop.iloc[i, 0], poop.iloc[i, 1]) for i in range(poop.shape[0])]"
   ]
  },
  {
   "cell_type": "markdown",
   "metadata": {},
   "source": [
    "Les noeuds de notre graphe représentent les polices et les arêtes représentent les sinistres. Les poids des arêtes sont les nombres de sinistres survenus."
   ]
  },
  {
   "cell_type": "code",
   "execution_count": 17,
   "metadata": {},
   "outputs": [],
   "source": [
    "weighted_edges = []\n",
    "\n",
    "for e in edges:\n",
    "    weight = 0\n",
    "    tmp = edges.copy()\n",
    "    tmp.remove(e)\n",
    "    for f in tmp:\n",
    "        if ((e[0] == f[0]) & (e[1] == f[1])) | ((e[1] == f[0]) & (e[0] == f[1])):\n",
    "            weight += 1\n",
    "    weighted_edges.append((e[0], e[1], weight))"
   ]
  },
  {
   "cell_type": "markdown",
   "metadata": {},
   "source": [
    "Création du graphe"
   ]
  },
  {
   "cell_type": "code",
   "execution_count": 22,
   "metadata": {},
   "outputs": [],
   "source": [
    "G = nx.Graph()\n",
    "G.add_nodes_from(nodes)\n",
    "G.add_weighted_edges_from(weighted_edges)"
   ]
  },
  {
   "cell_type": "markdown",
   "metadata": {},
   "source": [
    "Vu le nombre énorme de noeuds qu'on aura, une représentation graphique de ce graphe sera très compliqué à comprendre. Notre but dans cette partie est de détetecter s'il existe un circuit (Un circuit peut dévoiler un groupe d'assuré qui sont entrain de simuler des acidents entre eux). Ainsi, on affichera seulement les circuits."
   ]
  },
  {
   "cell_type": "code",
   "execution_count": 23,
   "metadata": {},
   "outputs": [],
   "source": [
    "flatten = lambda l: [item for sublist in l for item in sublist]\n",
    "\n",
    "edges = []\n",
    "for cycle in nx.cycle_basis(G):\n",
    "    if len(cycle) != 1:\n",
    "        for i in range(len(cycle) - 1):\n",
    "            edges.append((cycle[i], cycle[i + 1]))\n",
    "        edges.append((cycle[0], cycle[-1]))\n",
    "        \n",
    "nodes = flatten([[e[0], e[1]] for e in edges])"
   ]
  },
  {
   "cell_type": "code",
   "execution_count": 24,
   "metadata": {},
   "outputs": [
    {
     "name": "stdout",
     "output_type": "stream",
     "text": [
      "No cycles\n"
     ]
    }
   ],
   "source": [
    "G = nx.Graph()\n",
    "G.add_nodes_from(nodes)\n",
    "G.add_edges_from(edges)\n",
    "\n",
    "pos = nx.spring_layout(G)\n",
    "\n",
    "if nodes == []:\n",
    "    print('No cycles')\n",
    "else:\n",
    "    plt.figure(figsize = (20, 10))\n",
    "    nx.draw_networkx(G, pos = pos, with_labels = True, node_color = '#7f9a49', node_size = 500, \n",
    "                     alpha = 1, width = 1, edge_color = 'black')"
   ]
  },
  {
   "cell_type": "markdown",
   "metadata": {},
   "source": [
    "Exemple d'extraction de circuits :"
   ]
  },
  {
   "cell_type": "code",
   "execution_count": 22,
   "metadata": {},
   "outputs": [
    {
     "data": {
      "text/plain": [
       "Text(0.5, 1.0, 'Fraude Detection Using Graph Theory\\n')"
      ]
     },
     "execution_count": 22,
     "metadata": {},
     "output_type": "execute_result"
    }
   ],
   "source": [
    "G = nx.Graph()\n",
    "nodes = [k for k in range(1, 10)]\n",
    "edges = [(1, 2), (2, 3), (3, 1), (4, 5), (5, 6), (6, 7), (7, 4), (1, 7), (8, 9), (8, 8)]\n",
    "G.add_nodes_from(nodes)\n",
    "G.add_edges_from(edges)\n",
    "\n",
    "pos = nx.spring_layout(G)\n",
    "%matplotlib qt\n",
    "plt.figure(figsize = (15, 7))\n",
    "nx.draw_networkx(G, pos = pos, with_labels = True, node_color = '#7f9a49', node_size = 800, \n",
    "                 alpha = 1, width = 1, edge_color = 'black')\n",
    "plt.grid(False)\n",
    "plt.title('Fraude Detection Using Graph Theory\\n')"
   ]
  },
  {
   "cell_type": "code",
   "execution_count": 23,
   "metadata": {},
   "outputs": [],
   "source": [
    "flatten = lambda l: [item for sublist in l for item in sublist]\n",
    "\n",
    "edges = []\n",
    "for cycle in nx.cycle_basis(G):\n",
    "    if len(cycle) != 1:\n",
    "        for i in range(len(cycle) - 1):\n",
    "            edges.append((cycle[i], cycle[i + 1]))\n",
    "        edges.append((cycle[0], cycle[-1]))\n",
    "        \n",
    "nodes = flatten([[e[0], e[1]] for e in edges])"
   ]
  },
  {
   "cell_type": "code",
   "execution_count": 24,
   "metadata": {},
   "outputs": [
    {
     "data": {
      "text/plain": [
       "Text(0.5, 1.0, 'Fraude Detection Using Graph Theory\\n')"
      ]
     },
     "execution_count": 24,
     "metadata": {},
     "output_type": "execute_result"
    }
   ],
   "source": [
    "G = nx.Graph()\n",
    "G.add_nodes_from(nodes)\n",
    "G.add_edges_from(edges)\n",
    "\n",
    "pos = nx.spring_layout(G)\n",
    "\n",
    "plt.figure(figsize = (15, 7))\n",
    "nx.draw_networkx(G, pos = pos, with_labels = True, node_color = '#7f9a49', node_size = 800, \n",
    "                 alpha = 1, width = 1, edge_color = 'black')\n",
    "plt.grid(False)\n",
    "plt.title('Fraude Detection Using Graph Theory\\n')"
   ]
  },
  {
   "cell_type": "code",
   "execution_count": null,
   "metadata": {},
   "outputs": [],
   "source": []
  }
 ],
 "metadata": {
  "kernelspec": {
   "display_name": "Python 3",
   "language": "python",
   "name": "python3"
  },
  "language_info": {
   "codemirror_mode": {
    "name": "ipython",
    "version": 3
   },
   "file_extension": ".py",
   "mimetype": "text/x-python",
   "name": "python",
   "nbconvert_exporter": "python",
   "pygments_lexer": "ipython3",
   "version": "3.7.3"
  }
 },
 "nbformat": 4,
 "nbformat_minor": 2
}
